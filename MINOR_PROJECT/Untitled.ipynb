{
 "cells": [
  {
   "cell_type": "code",
   "execution_count": 10,
   "id": "f5047623",
   "metadata": {},
   "outputs": [
    {
     "name": "stderr",
     "output_type": "stream",
     "text": [
      "0it [00:00, ?it/s]\n",
      "100%|███████████████████████████████████████████| 1/1 [00:00<00:00, 5269.23it/s]\n"
     ]
    }
   ],
   "source": [
    "# Import libraries\n",
    "import speech_recognition as sr\n",
    "import os\n",
    "import glob\n",
    "from pydub import AudioSegment\n",
    "from tqdm import tqdm\n",
    "from pydub.silence import split_on_silence\n",
    "\n",
    "path_mp3 = os.path.join('..', 'data', 'raw', 'New Project')\n",
    "path_wav = os.path.join('..', 'data', 'interim')\n",
    "\n",
    "# File list\n",
    "filelist = glob.glob(path_mp3)\n",
    "\n",
    "# Convert mp3 to wav\n",
    "for file in tqdm(filelist):\n",
    "    name, ext = os.path.splitext(file)\n",
    "    # Filter mp3 extension\n",
    "    if ext == \".mp3\":\n",
    "        audio_mp3 = AudioSegment.from_file(file)\n",
    "        audio_mp3.export(os.path.join(path_wav, f\"{name}.wav\"), format=\"wav\")\n",
    "\n",
    "# Start speech recognizer\n",
    "recognizer = sr.Recognizer()\n",
    "\n",
    "# audio folder\n",
    "path_wav = './data/interim/'\n",
    "# output folder\n",
    "path_text = './data/processed/'\n",
    "\n",
    "# File list\n",
    "filelist = glob.glob(path_wav)\n",
    "\n",
    "# Read wav files\n",
    "for file in tqdm(filelist):\n",
    "    name, ext = os.path.splitext(file)\n",
    "    # Filter mp3 extension\n",
    "    if ext == \".mp3\":    \n",
    "        audio_mp3 = AudioSegment.from_file(file)\n",
    "        output_path = os.path.join(path_wav, f\"{name}.wav\")\n",
    "        audio_mp3.export(output_path, format=\"wav\")\n",
    "        \n",
    "        # split audio when silence is longer than 700 milliseconds\n",
    "        chunks = split_on_silence(audio_file, min_silence_len=500, silence_thresh=audio_file.dBFS - 14, keep_silence=500)\n",
    "\n",
    "        chunks_folder = \"audio-chunks\"\n",
    "\n",
    "        # create folder to save audio chunks\n",
    "        if not os.path.isdir(chunks_folder):\n",
    "            os.mkdir(chunks_folder)\n",
    "\n",
    "        full_text = \"\"\n",
    "\n",
    "        # process every chunk\n",
    "        for i, audio_chunk in enumerate(chunks, start=1):\n",
    "            # export chunk and save\n",
    "            chunks_file = os.path.join(chunks_folder, f\"chunk{i}.wav\")\n",
    "            audio_chunk.export(chunks_file, format=\"wav\")\n",
    "            # Speech recognition\n",
    "            with sr.AudioFile(chunks_file) as source:\n",
    "                recognizer.adjust_for_ambient_noise(source)  # Adjusts to eliminate ambient sound\n",
    "                audio = recognizer.record(source)  # Read audio\n",
    "                try:\n",
    "                    text = recognizer.recognize_google(audio, language='es-CL')  # Text recognized\n",
    "                    # Export to text file\n",
    "                except sr.UnknownValueError:\n",
    "                    print(\"Audio not understandable\")\n",
    "                except sr.RequestError as e:\n",
    "                    print(\"No requirement obtained {0}\".format(e))\n",
    "                else:\n",
    "                    text = f\"{text.capitalize()}. \"\n",
    "                    full_text += text\n",
    "                    with open(path_text+\"{0}.txt\".format(name), mode='w') as file:\n",
    "                        file.write(full_text)\n",
    "                        file.write(\"\\n\")  # Corrected line\n"
   ]
  },
  {
   "cell_type": "code",
   "execution_count": null,
   "id": "5b8729a8",
   "metadata": {},
   "outputs": [],
   "source": []
  }
 ],
 "metadata": {
  "kernelspec": {
   "display_name": "Python 3 (ipykernel)",
   "language": "python",
   "name": "python3"
  },
  "language_info": {
   "codemirror_mode": {
    "name": "ipython",
    "version": 3
   },
   "file_extension": ".py",
   "mimetype": "text/x-python",
   "name": "python",
   "nbconvert_exporter": "python",
   "pygments_lexer": "ipython3",
   "version": "3.10.9"
  }
 },
 "nbformat": 4,
 "nbformat_minor": 5
}
